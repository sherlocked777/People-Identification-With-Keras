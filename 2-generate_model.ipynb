{
 "cells": [
  {
   "cell_type": "code",
   "execution_count": null,
   "metadata": {},
   "outputs": [],
   "source": [
    "# import the necessary packages\n",
    "import datetime\n",
    "import matplotlib\n",
    "import numpy as np\n",
    "from keras.optimizers import SGD\n",
    "from base_model_vgg import MiniVGGNet\n",
    "from sklearn.preprocessing import LabelBinarizer\n",
    "from keras.preprocessing.image import ImageDataGenerator"
   ]
  },
  {
   "cell_type": "code",
   "execution_count": null,
   "metadata": {},
   "outputs": [],
   "source": [
    "def process_data(data, batch_size, label_binarizer):\n",
    "    '''\n",
    "    Function to read images from metadata\n",
    "    process image for training, get label info\n",
    "    from meta data\n",
    "    '''\n",
    "    \n",
    "    with open(data, \"r\") as f:\n",
    "        while True:\n",
    "            images = []\n",
    "            labels = []\n",
    "            # process images in batches\n",
    "            while len(images) < batch_size:\n",
    "                line = f.readline()\n",
    "                if line == \"\":\n",
    "                    f.seek(0)\n",
    "                    line = f.readline()\n",
    "\n",
    "                line = line.strip().split(\",\")\n",
    "                label = line[0]\n",
    "                image = np.array([int(x) for x in line[1:]], dtype=\"uint8\")\n",
    "                image = image.reshape((64, 64, 3))\n",
    "                # append features and target labels\n",
    "                images.append(image)\n",
    "                labels.append(label)\n",
    "\n",
    "            labels = label_binarizer.transform(np.array(labels))\n",
    "            # batches of tensor image data with real-time data augmentation\n",
    "            data_aug = ImageDataGenerator(rotation_range=20, zoom_range=0.15, width_shift_range=0.2,\n",
    "                                          height_shift_range=0.2, shear_range=0.15, \n",
    "                                          horizontal_flip=True, fill_mode=\"nearest\")\n",
    "\n",
    "            (images, labels) = next(data_aug.flow(np.array(images),\n",
    "                                                  labels, batch_size=batch_size))\n",
    "\n",
    "            yield (np.array(images), labels)"
   ]
  },
  {
   "cell_type": "code",
   "execution_count": null,
   "metadata": {},
   "outputs": [],
   "source": [
    "# Setting up Variables, Hyper parameters\n",
    "train_csv = \"train.csv\"\n",
    "test_csv = \"test.csv\"\n",
    "\n",
    "epoch_num = 200\n",
    "size_batch = 16\n",
    "\n",
    "num_train_images = 0\n",
    "num_test_images = 0"
   ]
  },
  {
   "cell_type": "code",
   "execution_count": null,
   "metadata": {},
   "outputs": [],
   "source": [
    "# open meta data file\n",
    "f = open(train_csv, \"r\")\n",
    "labels = set()\n",
    "testLabels = []\n",
    "\n",
    "# loop over all rows of meta data\n",
    "for line in f:\n",
    "    # strip label values\n",
    "    label = line.strip().split(\",\")[0]\n",
    "    labels.add(label)\n",
    "    num_train_images += 1\n",
    "f.close()\n",
    "f = open(test_csv, \"r\")\n",
    "\n",
    "for line in f:\n",
    "    label = line.strip().split(\",\")[0]\n",
    "    testLabels.append(label)\n",
    "    num_test_images += 1\n",
    "\n",
    "# close the meta data file\n",
    "f.close()"
   ]
  },
  {
   "cell_type": "code",
   "execution_count": null,
   "metadata": {},
   "outputs": [],
   "source": [
    "# binarize labels in a one-vs-all fashion\n",
    "\n",
    "lb = LabelBinarizer()\n",
    "lb.fit(list(labels))\n",
    "testLabels = lb.transform(testLabels)"
   ]
  },
  {
   "cell_type": "code",
   "execution_count": null,
   "metadata": {},
   "outputs": [],
   "source": [
    "# initialize train and test image generators\n",
    "train_obj = process_data(train_csv, size_batch, lb)\n",
    "test_obj = process_data(test_csv, size_batch, lb)"
   ]
  },
  {
   "cell_type": "code",
   "execution_count": null,
   "metadata": {},
   "outputs": [],
   "source": [
    "# initialise MiniVGGNet\n",
    "model = MiniVGGNet.build(64, 64, 3, len(lb.classes_))\n",
    "opt = SGD(lr=1e-2, momentum=0.9, decay=1e-2 / epoch_num)\n",
    "model.compile(loss=\"categorical_crossentropy\", optimizer=opt, metrics=[\"accuracy\"])"
   ]
  },
  {
   "cell_type": "code",
   "execution_count": null,
   "metadata": {},
   "outputs": [],
   "source": [
    "# train the model\n",
    "print(\"training/ generating model ...\")\n",
    "model.fit_generator(train_obj, steps_per_epoch=num_train_images // size_batch,\n",
    "                    validation_data=test_obj, validation_steps=num_test_images // size_batch,\n",
    "                    epochs=epoch_num)"
   ]
  },
  {
   "cell_type": "code",
   "execution_count": null,
   "metadata": {},
   "outputs": [],
   "source": [
    "# re-initialize test data generator, for evaluating\n",
    "test_obj = process_data(test_csv, size_batch, lb)\n",
    "\n",
    "# make predictions on the testing images, finding the index of the\n",
    "# label with the corresponding largest predicted probability\n",
    "predIdxs = model.predict_generator(\n",
    "    test_obj, steps=(num_test_images // size_batch) + 1)\n",
    "predIdxs = np.argmax(predIdxs, axis=1)"
   ]
  },
  {
   "cell_type": "code",
   "execution_count": null,
   "metadata": {},
   "outputs": [],
   "source": [
    "# save model\n",
    "model.save('model_sample2.h5')"
   ]
  }
 ],
 "metadata": {
  "kernelspec": {
   "display_name": "Python 3",
   "language": "python",
   "name": "python3"
  },
  "language_info": {
   "codemirror_mode": {
    "name": "ipython",
    "version": 3
   },
   "file_extension": ".py",
   "mimetype": "text/x-python",
   "name": "python",
   "nbconvert_exporter": "python",
   "pygments_lexer": "ipython3",
   "version": "3.6.6"
  }
 },
 "nbformat": 4,
 "nbformat_minor": 2
}
