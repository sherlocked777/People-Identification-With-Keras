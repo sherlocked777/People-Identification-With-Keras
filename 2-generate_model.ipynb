{
 "cells": [
  {
   "cell_type": "code",
   "execution_count": 1,
   "metadata": {},
   "outputs": [
    {
     "name": "stderr",
     "output_type": "stream",
     "text": [
      "/home/vishnu/.virtualenvs/dl/lib/python3.6/site-packages/h5py/__init__.py:36: FutureWarning: Conversion of the second argument of issubdtype from `float` to `np.floating` is deprecated. In future, it will be treated as `np.float64 == np.dtype(float).type`.\n",
      "  from ._conv import register_converters as _register_converters\n",
      "Using TensorFlow backend.\n"
     ]
    }
   ],
   "source": [
    "# import the necessary packages\n",
    "import datetime\n",
    "import matplotlib\n",
    "import numpy as np\n",
    "from keras.optimizers import SGD\n",
    "from base_model_vgg import MiniVGGNet\n",
    "from sklearn.preprocessing import LabelBinarizer\n",
    "from sklearn.metrics import classification_report\n",
    "from keras.preprocessing.image import ImageDataGenerator"
   ]
  },
  {
   "cell_type": "code",
   "execution_count": 2,
   "metadata": {},
   "outputs": [],
   "source": [
    "def process_data(data, batch_size, label_binarizer):\n",
    "    '''\n",
    "    Function to read images from metadata\n",
    "    process image for training, get label info\n",
    "    from meta data\n",
    "    '''\n",
    "    \n",
    "    with open(data, \"r\") as f:\n",
    "        while True:\n",
    "            images = []\n",
    "            labels = []\n",
    "            # process images in batches\n",
    "            while len(images) < batch_size:\n",
    "                line = f.readline()\n",
    "                if line == \"\":\n",
    "                    f.seek(0)\n",
    "                    line = f.readline()\n",
    "\n",
    "                line = line.strip().split(\",\")\n",
    "                label = line[0]\n",
    "                image = np.array([int(x) for x in line[1:]], dtype=\"uint8\")\n",
    "                image = image.reshape((64, 64, 3))\n",
    "                # append features and target labels\n",
    "                images.append(image)\n",
    "                labels.append(label)\n",
    "\n",
    "            labels = label_binarizer.transform(np.array(labels))\n",
    "            # batches of tensor image data with real-time data augmentation\n",
    "            data_aug = ImageDataGenerator(rotation_range=20, zoom_range=0.15, width_shift_range=0.2,\n",
    "                                          height_shift_range=0.2, shear_range=0.15, \n",
    "                                          horizontal_flip=True, fill_mode=\"nearest\")\n",
    "\n",
    "            (images, labels) = next(data_aug.flow(np.array(images),\n",
    "                                                  labels, batch_size=batch_size))\n",
    "\n",
    "            yield (np.array(images), labels)"
   ]
  },
  {
   "cell_type": "code",
   "execution_count": 3,
   "metadata": {},
   "outputs": [],
   "source": [
    "# Setting up Variables, Hyper parameters\n",
    "train_csv = \"train.csv\"\n",
    "test_csv = \"test.csv\"\n",
    "\n",
    "epoch_num = 200\n",
    "size_batch = 16\n",
    "\n",
    "num_train_images = 0\n",
    "num_test_images = 0"
   ]
  },
  {
   "cell_type": "code",
   "execution_count": 4,
   "metadata": {},
   "outputs": [],
   "source": [
    "# open meta data file\n",
    "f = open(train_csv, \"r\")\n",
    "labels = set()\n",
    "testLabels = []\n",
    "\n",
    "# loop over all rows of meta data\n",
    "for line in f:\n",
    "    # strip label values\n",
    "    label = line.strip().split(\",\")[0]\n",
    "    labels.add(label)\n",
    "    num_train_images += 1\n",
    "f.close()\n",
    "f = open(test_csv, \"r\")\n",
    "\n",
    "for line in f:\n",
    "    label = line.strip().split(\",\")[0]\n",
    "    testLabels.append(label)\n",
    "    num_test_images += 1\n",
    "\n",
    "# close the meta data file\n",
    "f.close()"
   ]
  },
  {
   "cell_type": "code",
   "execution_count": 5,
   "metadata": {},
   "outputs": [],
   "source": [
    "# binarize labels in a one-vs-all fashion\n",
    "\n",
    "lb = LabelBinarizer()\n",
    "lb.fit(list(labels))\n",
    "testLabels = lb.transform(testLabels)"
   ]
  },
  {
   "cell_type": "code",
   "execution_count": 6,
   "metadata": {},
   "outputs": [],
   "source": [
    "# initialize train and test image generators\n",
    "train_obj = process_data(train_csv, size_batch, lb)\n",
    "test_obj = process_data(test_csv, size_batch, lb)"
   ]
  },
  {
   "cell_type": "code",
   "execution_count": 7,
   "metadata": {},
   "outputs": [],
   "source": [
    "# initialise MiniVGGNet\n",
    "model = MiniVGGNet.build(64, 64, 3, len(lb.classes_))\n",
    "opt = SGD(lr=1e-2, momentum=0.9, decay=1e-2 / epoch_num)\n",
    "model.compile(loss=\"categorical_crossentropy\", optimizer=opt, metrics=[\"accuracy\"])"
   ]
  },
  {
   "cell_type": "code",
   "execution_count": null,
   "metadata": {},
   "outputs": [],
   "source": [
    "# num_test_images"
   ]
  },
  {
   "cell_type": "code",
   "execution_count": null,
   "metadata": {},
   "outputs": [
    {
     "name": "stdout",
     "output_type": "stream",
     "text": [
      "training/ generating model ...\n",
      "Epoch 1/200\n",
      "620/620 [==============================] - 532s 858ms/step - loss: 8.4282 - acc: 0.0183 - val_loss: 5.1212 - val_acc: 0.0246\n",
      "Epoch 2/200\n",
      "620/620 [==============================] - 530s 855ms/step - loss: 7.8710 - acc: 0.0210 - val_loss: 4.9387 - val_acc: 0.0215\n",
      "Epoch 3/200\n",
      "620/620 [==============================] - 530s 855ms/step - loss: 7.4676 - acc: 0.0291 - val_loss: 4.7645 - val_acc: 0.0312\n",
      "Epoch 4/200\n",
      "620/620 [==============================] - 529s 853ms/step - loss: 7.1546 - acc: 0.0296 - val_loss: 4.9143 - val_acc: 0.0291\n",
      "Epoch 5/200\n",
      "620/620 [==============================] - 528s 852ms/step - loss: 6.8917 - acc: 0.0341 - val_loss: 4.5576 - val_acc: 0.0370\n",
      "Epoch 6/200\n",
      "620/620 [==============================] - 528s 852ms/step - loss: 6.6504 - acc: 0.0391 - val_loss: 4.4864 - val_acc: 0.0379\n",
      "Epoch 7/200\n",
      "620/620 [==============================] - 527s 850ms/step - loss: 6.4388 - acc: 0.0378 - val_loss: 4.5586 - val_acc: 0.0364\n",
      "Epoch 8/200\n",
      "620/620 [==============================] - 527s 849ms/step - loss: 6.2744 - acc: 0.0402 - val_loss: 4.5019 - val_acc: 0.0458\n",
      "Epoch 9/200\n",
      "620/620 [==============================] - 527s 850ms/step - loss: 6.0867 - acc: 0.0440 - val_loss: 4.5496 - val_acc: 0.0416\n",
      "Epoch 10/200\n",
      "620/620 [==============================] - 527s 850ms/step - loss: 5.9173 - acc: 0.0468 - val_loss: 4.5690 - val_acc: 0.0431\n",
      "Epoch 11/200\n",
      "620/620 [==============================] - 528s 851ms/step - loss: 5.7360 - acc: 0.0555 - val_loss: 4.5805 - val_acc: 0.0407\n",
      "Epoch 12/200\n",
      "620/620 [==============================] - 527s 851ms/step - loss: 5.5436 - acc: 0.0567 - val_loss: 4.4872 - val_acc: 0.0522\n",
      "Epoch 13/200\n",
      "620/620 [==============================] - 527s 851ms/step - loss: 5.3760 - acc: 0.0741 - val_loss: 4.6554 - val_acc: 0.0419\n",
      "Epoch 14/200\n",
      "620/620 [==============================] - 527s 850ms/step - loss: 5.2918 - acc: 0.0721 - val_loss: 4.6218 - val_acc: 0.0422\n",
      "Epoch 15/200\n",
      "620/620 [==============================] - 544s 877ms/step - loss: 5.0631 - acc: 0.0884 - val_loss: 4.6617 - val_acc: 0.0470\n",
      "Epoch 16/200\n",
      "620/620 [==============================] - 554s 893ms/step - loss: 4.9040 - acc: 0.1048 - val_loss: 4.6879 - val_acc: 0.0467\n",
      "Epoch 17/200\n",
      "620/620 [==============================] - 552s 890ms/step - loss: 4.7573 - acc: 0.1127 - val_loss: 4.6877 - val_acc: 0.0513\n",
      "Epoch 18/200\n",
      "620/620 [==============================] - 549s 885ms/step - loss: 4.5958 - acc: 0.1374 - val_loss: 4.8375 - val_acc: 0.0440\n",
      "Epoch 19/200\n",
      "620/620 [==============================] - 553s 892ms/step - loss: 4.4698 - acc: 0.1515 - val_loss: 4.7187 - val_acc: 0.0576\n",
      "Epoch 20/200\n",
      "620/620 [==============================] - 585s 944ms/step - loss: 4.2997 - acc: 0.1727 - val_loss: 4.7598 - val_acc: 0.0589\n",
      "Epoch 21/200\n",
      "620/620 [==============================] - 564s 910ms/step - loss: 4.1543 - acc: 0.1939 - val_loss: 5.3549 - val_acc: 0.0410\n",
      "Epoch 22/200\n",
      "173/620 [=======>......................] - ETA: 6:29 - loss: 4.1615 - acc: 0.1918"
     ]
    }
   ],
   "source": [
    "# train the model\n",
    "print(\"training/ generating model ...\")\n",
    "model.fit_generator(train_obj, steps_per_epoch=num_train_images // size_batch,\n",
    "                    validation_data=test_obj, validation_steps=num_test_images // size_batch,\n",
    "                    epochs=epoch_num)"
   ]
  },
  {
   "cell_type": "code",
   "execution_count": null,
   "metadata": {},
   "outputs": [],
   "source": [
    "# re-initialize test data generator, for evaluating\n",
    "test_obj = process_data(test_csv, size_batch, lb)\n",
    "\n",
    "# make predictions on the testing images, finding the index of the\n",
    "# label with the corresponding largest predicted probability\n",
    "predIdxs = model.predict_generator(\n",
    "    test_obj, steps=(num_test_images // size_batch) + 1)\n",
    "predIdxs = np.argmax(predIdxs, axis=1)"
   ]
  },
  {
   "cell_type": "code",
   "execution_count": null,
   "metadata": {},
   "outputs": [],
   "source": [
    "model.save('model_sample2.h5')"
   ]
  }
 ],
 "metadata": {
  "kernelspec": {
   "display_name": "Python 3",
   "language": "python",
   "name": "python3"
  },
  "language_info": {
   "codemirror_mode": {
    "name": "ipython",
    "version": 3
   },
   "file_extension": ".py",
   "mimetype": "text/x-python",
   "name": "python",
   "nbconvert_exporter": "python",
   "pygments_lexer": "ipython3",
   "version": "3.6.6"
  }
 },
 "nbformat": 4,
 "nbformat_minor": 2
}
