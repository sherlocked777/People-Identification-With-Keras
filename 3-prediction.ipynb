{
 "cells": [
  {
   "cell_type": "markdown",
   "metadata": {},
   "source": [
    "## Use generated model for prediction: Randomly select images from data_test directory"
   ]
  },
  {
   "cell_type": "code",
   "execution_count": null,
   "metadata": {},
   "outputs": [],
   "source": [
    "import os\n",
    "import gc\n",
    "import cv2\n",
    "import csv\n",
    "import dlib\n",
    "import glob\n",
    "import random\n",
    "import numpy as np\n",
    "import tensorflow as tf\n",
    "detector = dlib.get_frontal_face_detector()\n",
    "from keras.models import load_model"
   ]
  },
  {
   "cell_type": "code",
   "execution_count": null,
   "metadata": {},
   "outputs": [],
   "source": [
    "def get_predictions(img_path, lookup_table, model):\n",
    "    '''\n",
    "    Function to get model predictions.\n",
    "    img_path: image path for prediction\n",
    "    lookup_table: class labels for inverse encoding\n",
    "    model: generated model(VGGNet)\n",
    "    '''\n",
    "    org = cv2.imread(img_path)\n",
    "    actual_name = os.path.basename(os.path.dirname(img_path))\n",
    "    image = cv2.resize(cv2.imread(img_path), (64, 64))\n",
    "    image = np.expand_dims(image, axis=0)\n",
    "    pred = np.argmax(model.predict(image), axis=1)[0]\n",
    "    result = {'Actual_Name': actual_name, 'Prediction': labels[pred]}\n",
    "    font = cv2.FONT_HERSHEY_PLAIN\n",
    "    \n",
    "    window = cv2.namedWindow('Image', cv2.WINDOW_NORMAL)\n",
    "    cv2.resizeWindow('Image', 900, 900)\n",
    "    # dlib detector, returns the default face detector\n",
    "    dets = detector(org, 1)\n",
    "    for i, d in enumerate(dets):\n",
    "        print(\"Detection {}: Left: {} Top: {} Right: {} Bottom: {}\".format(\n",
    "            i, d.left(), d.top(), d.right(), d.bottom()))\n",
    "    \n",
    "        cv2.rectangle(org, (d.left(), d.top()), (d.right(), d.bottom()), (255,255,0), 5)\n",
    "    cv2.putText(org, str(labels[pred]), (d.left(), d.top()-5),\n",
    "                font, 2, (0, 0, 255), 2, cv2.LINE_AA)\n",
    "    cv2.imshow('Image', org)\n",
    "    cv2.waitKey(0)\n",
    "    cv2.destroyAllWindows()\n",
    "    return result"
   ]
  },
  {
   "cell_type": "code",
   "execution_count": null,
   "metadata": {},
   "outputs": [],
   "source": [
    "# directory path \n",
    "test_dir = glob.glob(\n",
    "    './Dataset/**/*.jpg', recursive=True)"
   ]
  },
  {
   "cell_type": "code",
   "execution_count": null,
   "metadata": {},
   "outputs": [],
   "source": [
    "# load saved model\n",
    "model = load_model('model.h5')"
   ]
  },
  {
   "cell_type": "code",
   "execution_count": null,
   "metadata": {},
   "outputs": [],
   "source": [
    "with open('class_labels.csv', 'r') as csvfile:\n",
    "    spamreader = csv.reader(csvfile, delimiter=',', quotechar='|')\n",
    "    labels = [row for row in spamreader]\n",
    "    labels = labels[0]"
   ]
  },
  {
   "cell_type": "code",
   "execution_count": null,
   "metadata": {},
   "outputs": [],
   "source": [
    "# Randomly choose images from test_data directory\n",
    "idx = random.randint(1, len(test_dir))"
   ]
  },
  {
   "cell_type": "code",
   "execution_count": null,
   "metadata": {},
   "outputs": [],
   "source": [
    "# get prediction\n",
    "get_predictions(test_dir[idx], labels, model)\n",
    "gc.collect()\n",
    "tf.keras.backend.clear_session()"
   ]
  },
  {
   "cell_type": "markdown",
   "metadata": {},
   "source": [
    "## System Information"
   ]
  },
  {
   "cell_type": "markdown",
   "metadata": {},
   "source": [
    "### Model trained on NVIDIA GeForce GTX 1050 Ti"
   ]
  },
  {
   "cell_type": "markdown",
   "metadata": {},
   "source": [
    "*-display                 \n",
    "       description: VGA compatible controller\n",
    "       product: GP107 [GeForce GTX 1050 Ti]\n",
    "       vendor: NVIDIA Corporation\n",
    "       physical id: 0\n",
    "       bus info: pci@0000:01:00.0\n",
    "       version: a1\n",
    "       width: 64 bits\n",
    "       clock: 33MHz\n",
    "       capabilities: pm msi pciexpress vga_controller bus_master cap_list romor\n",
    "       configuration: driver=nvidia latency=0\n",
    "       resources: irq:125 memory:f6000000-f6ffffff memory:e0000000-efffffff memory:f0000000-f1ffffff ioport:e000(size=128) memory:c0000-dffff"
   ]
  },
  {
   "cell_type": "code",
   "execution_count": null,
   "metadata": {},
   "outputs": [],
   "source": []
  }
 ],
 "metadata": {
  "kernelspec": {
   "display_name": "Python 3",
   "language": "python",
   "name": "python3"
  },
  "language_info": {
   "codemirror_mode": {
    "name": "ipython",
    "version": 3
   },
   "file_extension": ".py",
   "mimetype": "text/x-python",
   "name": "python",
   "nbconvert_exporter": "python",
   "pygments_lexer": "ipython3",
   "version": "3.6.7"
  }
 },
 "nbformat": 4,
 "nbformat_minor": 2
}
