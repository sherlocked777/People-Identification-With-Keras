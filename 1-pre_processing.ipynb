{
 "cells": [
  {
   "cell_type": "markdown",
   "metadata": {},
   "source": [
    "## Preprocess the dataset and creating class labels into meta data"
   ]
  },
  {
   "cell_type": "code",
   "execution_count": 1,
   "metadata": {},
   "outputs": [],
   "source": [
    "# Import libraries\n",
    "import random\n",
    "import csv\n",
    "import cv2\n",
    "import os\n",
    "import shutil\n",
    "from imutils import paths"
   ]
  },
  {
   "cell_type": "code",
   "execution_count": 2,
   "metadata": {},
   "outputs": [],
   "source": [
    "def check_dir_exist(directory):\n",
    "    '''\n",
    "    Check for directory otherwise creates that directory\n",
    "    '''\n",
    "    if not os.path.exists(directory):\n",
    "        os.makedirs(directory)"
   ]
  },
  {
   "cell_type": "code",
   "execution_count": 3,
   "metadata": {},
   "outputs": [],
   "source": [
    "Dataset_path = '/home/vishnu/Desktop/Task_1/Dataset' # Path to the dataset\n",
    "# sorted list of directory\n",
    "data_path_ = sorted(list(paths.list_images(Dataset_path)))"
   ]
  },
  {
   "cell_type": "code",
   "execution_count": 4,
   "metadata": {},
   "outputs": [],
   "source": [
    "# split train and test data\n",
    "random.shuffle(data_path_)\n",
    "i = int(len(data_path_) * 0.75)\n",
    "trainPaths = data_path_[:i]\n",
    "testPaths = data_path_[i:]"
   ]
  },
  {
   "cell_type": "code",
   "execution_count": 5,
   "metadata": {},
   "outputs": [],
   "source": [
    "datasets = [\n",
    "    (\"train\", trainPaths, \"train.csv\"),\n",
    "    (\"test\", testPaths, \"test.csv\")\n",
    "]"
   ]
  },
  {
   "cell_type": "code",
   "execution_count": 6,
   "metadata": {},
   "outputs": [
    {
     "name": "stdout",
     "output_type": "stream",
     "text": [
      "writing 'train' split...\n",
      "writing 'test' split...\n"
     ]
    }
   ],
   "source": [
    "labels = []\n",
    "for (dType, imagePaths, outputPath) in datasets:\n",
    "    # open the meta data file for writing\n",
    "    print(\"writing '{}' split...\".format(dType))\n",
    "    f = open(outputPath, \"w\")\n",
    "\n",
    "    # loop over images\n",
    "    for imagePath in imagePaths:\n",
    "        # load the input image and resize it to a fixed size (64 x 64)\n",
    "        image = cv2.imread(imagePath)\n",
    "        image = cv2.resize(image, (64, 64))\n",
    "\n",
    "        # flatten pixel values\n",
    "        image = [str(x) for x in image.flatten()]\n",
    "\n",
    "        # Split label values from meta data\n",
    "        label = imagePath.split(os.path.sep)[-2]\n",
    "        labels.append(label)\n",
    "\n",
    "        f.write(\"{},{}\\n\".format(label, \",\".join(image)))\n",
    "\n",
    "# close the meta data file\n",
    "f.close()\n",
    "with open(\"class_labels.csv\", \"w\") as f:\n",
    "    writer = csv.writer(f)\n",
    "    writer.writerow(labels)"
   ]
  },
  {
   "cell_type": "code",
   "execution_count": null,
   "metadata": {},
   "outputs": [],
   "source": []
  },
  {
   "cell_type": "code",
   "execution_count": null,
   "metadata": {},
   "outputs": [],
   "source": []
  }
 ],
 "metadata": {
  "kernelspec": {
   "display_name": "Python 3",
   "language": "python",
   "name": "python3"
  },
  "language_info": {
   "codemirror_mode": {
    "name": "ipython",
    "version": 3
   },
   "file_extension": ".py",
   "mimetype": "text/x-python",
   "name": "python",
   "nbconvert_exporter": "python",
   "pygments_lexer": "ipython3",
   "version": "3.6.6"
  }
 },
 "nbformat": 4,
 "nbformat_minor": 2
}
